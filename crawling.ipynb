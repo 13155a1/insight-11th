{
 "cells": [
  {
   "cell_type": "markdown",
   "id": "ee7576c1",
   "metadata": {
    "toc": true
   },
   "source": [
    "<h1>Table of Contents<span class=\"tocSkip\"></span></h1>\n",
    "<div class=\"toc\"><ul class=\"toc-item\"><li><span><a href=\"#동적-크롤링을-통한-로그인\" data-toc-modified-id=\"동적-크롤링을-통한-로그인-1\"><span class=\"toc-item-num\">1&nbsp;&nbsp;</span>동적 크롤링을 통한 로그인</a></span></li><li><span><a href=\"#크롤링\" data-toc-modified-id=\"크롤링-2\"><span class=\"toc-item-num\">2&nbsp;&nbsp;</span>크롤링</a></span><ul class=\"toc-item\"><li><span><a href=\"#meta-data\" data-toc-modified-id=\"meta-data-2.1\"><span class=\"toc-item-num\">2.1&nbsp;&nbsp;</span>meta data</a></span><ul class=\"toc-item\"><li><span><a href=\"#게시물의-id-추출\" data-toc-modified-id=\"게시물의-id-추출-2.1.1\"><span class=\"toc-item-num\">2.1.1&nbsp;&nbsp;</span>게시물의 id 추출</a></span></li><li><span><a href=\"#추천수와-조회수\" data-toc-modified-id=\"추천수와-조회수-2.1.2\"><span class=\"toc-item-num\">2.1.2&nbsp;&nbsp;</span>추천수와 조회수</a></span></li><li><span><a href=\"#제목과-댓글-수\" data-toc-modified-id=\"제목과-댓글-수-2.1.3\"><span class=\"toc-item-num\">2.1.3&nbsp;&nbsp;</span>제목과 댓글 수</a></span></li></ul></li><li><span><a href=\"#metadata-handler\" data-toc-modified-id=\"metadata-handler-2.2\"><span class=\"toc-item-num\">2.2&nbsp;&nbsp;</span>metadata handler</a></span><ul class=\"toc-item\"><li><span><a href=\"#meta-data-test-for-handler\" data-toc-modified-id=\"meta-data-test-for-handler-2.2.1\"><span class=\"toc-item-num\">2.2.1&nbsp;&nbsp;</span>meta data test for handler</a></span></li></ul></li><li><span><a href=\"#contents-comments\" data-toc-modified-id=\"contents-comments-2.3\"><span class=\"toc-item-num\">2.3&nbsp;&nbsp;</span>contents comments</a></span><ul class=\"toc-item\"><li><span><a href=\"#게시물과-댓글\" data-toc-modified-id=\"게시물과-댓글-2.3.1\"><span class=\"toc-item-num\">2.3.1&nbsp;&nbsp;</span>게시물과 댓글</a></span></li></ul></li><li><span><a href=\"#Contents-Comments-handler\" data-toc-modified-id=\"Contents-Comments-handler-2.4\"><span class=\"toc-item-num\">2.4&nbsp;&nbsp;</span>Contents Comments handler</a></span><ul class=\"toc-item\"><li><span><a href=\"#test-for-comments-contents-handler\" data-toc-modified-id=\"test-for-comments-contents-handler-2.4.1\"><span class=\"toc-item-num\">2.4.1&nbsp;&nbsp;</span>test for comments contents handler</a></span></li></ul></li></ul></li><li><span><a href=\"#Main\" data-toc-modified-id=\"Main-3\"><span class=\"toc-item-num\">3&nbsp;&nbsp;</span>Main</a></span><ul class=\"toc-item\"><li><span><a href=\"#login\" data-toc-modified-id=\"login-3.1\"><span class=\"toc-item-num\">3.1&nbsp;&nbsp;</span>login</a></span></li><li><span><a href=\"#crawl-all\" data-toc-modified-id=\"crawl-all-3.2\"><span class=\"toc-item-num\">3.2&nbsp;&nbsp;</span>crawl all</a></span></li></ul></li></ul></div>"
   ]
  },
  {
   "cell_type": "markdown",
   "id": "7983ab16",
   "metadata": {},
   "source": [
    "## 동적 크롤링을 통한 로그인"
   ]
  },
  {
   "cell_type": "code",
   "execution_count": 1,
   "id": "5c7cf864",
   "metadata": {},
   "outputs": [],
   "source": [
    "from selenium import webdriver\n",
    "from selenium.webdriver.common.by import By\n",
    "from selenium.webdriver.support.ui import WebDriverWait\n",
    "from selenium.webdriver.support import expected_conditions as EC\n",
    "from selenium.webdriver.support.ui import Select\n",
    "from bs4 import BeautifulSoup\n",
    "import time\n",
    "import pandas as pd\n",
    "from datetime import datetime"
   ]
  },
  {
   "cell_type": "code",
   "execution_count": 2,
   "id": "3cbc18cf",
   "metadata": {},
   "outputs": [],
   "source": [
    "def login():\n",
    " asfoihwopehnig][]\n",
    "        # \"로그인\" 링크를 찾아 클릭\n",
    "        login_link = WebDriverWait(driver, 10).until(\n",
    "            EC.element_to_be_clickable((By.PARTIAL_LINK_TEXT, '로그인'))\n",
    "        )\n",
    "        login_link.click()\n",
    "\n",
    "        # 아이디 입력\n",
    "        id_input = WebDriverWait(driver, 10).until(\n",
    "            EC.element_to_be_clickable((By.NAME, 'id'))\n",
    "        )\n",
    "        id_input.send_keys('kun0107')  # 본인 아이디 입력\n",
    "        id_input.click()\n",
    "\n",
    "\n",
    "        pass_input = WebDriverWait(driver, 10).until(\n",
    "            EC.element_to_be_clickable((By.NAME, 'pass'))\n",
    "        )\n",
    "        pass_input.click()\n",
    "        pass_input.send_keys('Dlrjsghk12@@')\n",
    "\n",
    "        # 로그인 버튼 클릭\n",
    "        login_button = WebDriverWait(driver, 10).until(\n",
    "            EC.element_to_be_clickable((By.XPATH, '//input[@type=\"submit\" and @value=\"로그인\"]'))\n",
    "        )\n",
    "        login_button.click()\n",
    "\n",
    "    except Exception as e:\n",
    "        print(\"로그인 실패\")\n",
    "        print(e)\n",
    "        return NULL\n",
    "    return driver"
   ]
  },
  {
   "cell_type": "markdown",
   "id": "5eb46bf3",
   "metadata": {},
   "source": [
    "## 크롤링"
   ]
  },
  {
   "cell_type": "markdown",
   "id": "663cf4c9",
   "metadata": {},
   "source": [
    "### meta data"
   ]
  },
  {
   "cell_type": "markdown",
   "id": "4c90e82a",
   "metadata": {},
   "source": [
    "#### 게시물의 id 추출"
   ]
  },
  {
   "cell_type": "code",
   "execution_count": 3,
   "id": "f8279dae",
   "metadata": {},
   "outputs": [],
   "source": [
    "def get_ids(soup, ad_cnt):\n",
    "    start = ad_cnt\n",
    "    end = start + 20\n",
    "    ids = []\n",
    "    try:\n",
    "        td_tags = soup.find_all('td', class_='mobile-hide')\n",
    "    except:\n",
    "        td_tags = []\n",
    "    for i in range(start, min(end, len(td_tags))):\n",
    "        try:\n",
    "            td_tag = td_tags[i]\n",
    "            id_text = td_tag.find('center').text \n",
    "            id = int(id_text)\n",
    "        except:\n",
    "            id = 0\n",
    "        ids.append(id)\n",
    "\n",
    "    return ids"
   ]
  },
  {
   "cell_type": "markdown",
   "id": "52abaf4d",
   "metadata": {},
   "source": [
    "#### 추천수와 조회수"
   ]
  },
  {
   "cell_type": "code",
   "execution_count": 4,
   "id": "3f8963be",
   "metadata": {},
   "outputs": [],
   "source": [
    "def get_like_view(soup, ad_cnt):\n",
    "    start = ad_cnt * 4\n",
    "    end = start + 80\n",
    "    try:\n",
    "        values = soup.find_all('td', style='text-align:center;')\n",
    "    except:\n",
    "        values = []\n",
    "    likes = []\n",
    "    views = []\n",
    "    for i in range(start, min(end, len(values)), 4):\n",
    "        try:\n",
    "            like = int(values[i + 1].text.strip())\n",
    "        except:\n",
    "            like = 0\n",
    "        try:\n",
    "            view = int(values[i + 3].text.strip())\n",
    "        except:\n",
    "            view = 0\n",
    "        likes.append(like)\n",
    "        views.append(view)\n",
    "    return likes, views"
   ]
  },
  {
   "cell_type": "markdown",
   "id": "c3fd4c2e",
   "metadata": {},
   "source": [
    "#### 제목과 댓글 수"
   ]
  },
  {
   "cell_type": "code",
   "execution_count": 5,
   "id": "b06fd923",
   "metadata": {},
   "outputs": [],
   "source": [
    "def get_titles_comnum(soup, ad_cnt):\n",
    "    start = ad_cnt\n",
    "    end = ad_cnt + 20\n",
    "    titles = []\n",
    "    comment_nums = []\n",
    "    try:\n",
    "        td_elements = soup.find_all('td', class_='title title-align')\n",
    "    except:\n",
    "        td_elements = None\n",
    "    if td_elements == None:\n",
    "        return titles, comment_nums\n",
    "    for i in range(start, min(end, len(td_elements))):\n",
    "        new_soup = BeautifulSoup(str(td_elements[i]), 'html.parser')\n",
    "        try:\n",
    "            title = new_soup.find('span', class_='content-title').get_text(strip=True)\n",
    "        except:\n",
    "            title = \"\"\n",
    "        try:\n",
    "            comment_num_text = new_soup.find('span', class_='comment-num').get_text(strip=True)\n",
    "            comment_num = int(comment_num_text[1: -1])\n",
    "        except:\n",
    "            comment_num = 0\n",
    "        titles.append(title)\n",
    "        comment_nums.append(comment_num)\n",
    "    return titles, comment_nums"
   ]
  },
  {
   "cell_type": "markdown",
   "id": "92887f1f",
   "metadata": {},
   "source": [
    "### metadata handler"
   ]
  },
  {
   "cell_type": "code",
   "execution_count": 6,
   "id": "bdc24b98",
   "metadata": {},
   "outputs": [],
   "source": [
    "def metadata_handler(driver,board_num, start_page, end_page, ad_cnt):\n",
    "    meta_data = {\n",
    "        \"id\": [],\n",
    "        \"title\": [],\n",
    "        \"likes\": [],\n",
    "        \"views\": [],\n",
    "        \"comment_num\": []\n",
    "    }\n",
    "    for i in range(start_page, end_page + 1):\n",
    "        url = 'https://www.ssodam.com/board/' + str(board_num) + '/' + str(i)\n",
    "        driver.get(url)\n",
    "        time.sleep(2)\n",
    "        soup = BeautifulSoup(driver.page_source, 'html.parser')\n",
    "        ids = get_ids(soup, ad_cnt)\n",
    "        titles, comment_nums = get_titles_comnum(soup, ad_cnt)\n",
    "        likes, views = get_like_view(soup, ad_cnt)\n",
    "        meta_data[\"id\"].extend(ids)\n",
    "        meta_data[\"title\"].extend(titles)\n",
    "        meta_data[\"likes\"].extend(likes)\n",
    "        meta_data[\"views\"].extend(views)\n",
    "        meta_data[\"comment_num\"].extend(comment_nums)\n",
    "    return meta_data\n",
    "        "
   ]
  },
  {
   "cell_type": "markdown",
   "id": "ead07d14",
   "metadata": {},
   "source": [
    "#### meta data test for handler"
   ]
  },
  {
   "cell_type": "code",
   "execution_count": 7,
   "id": "68277c27",
   "metadata": {},
   "outputs": [],
   "source": [
    "# driver = login()\n",
    "# url = 'https://www.ssodam.com/all/1?field=content&q=남사친'\n",
    "# time.sleep(1)\n",
    "# driver.get(url)\n",
    "# soup = BeautifulSoup(driver.page_source, 'html.parser')\n",
    "# meta_data = {\n",
    "#     \"id\": [],\n",
    "#     \"title\": [],\n",
    "#     \"likes\": [],\n",
    "#     \"views\": [],\n",
    "# }\n",
    "# ids = get_ids(soup)\n",
    "# titles = get_titles(soup)\n",
    "# likes, views = get_etc(soup)\n",
    "# meta_data[\"id\"].extend(ids)\n",
    "# meta_data[\"title\"].extend(titles)\n",
    "# meta_data[\"likes\"].extend(likes)\n",
    "# meta_data[\"views\"].extend(views)\n",
    "# pd.DataFrame(meta_data)"
   ]
  },
  {
   "cell_type": "markdown",
   "id": "ebddedcc",
   "metadata": {},
   "source": [
    "### contents comments"
   ]
  },
  {
   "cell_type": "markdown",
   "id": "156bac5f",
   "metadata": {},
   "source": [
    "#### 게시물과 댓글"
   ]
  },
  {
   "cell_type": "code",
   "execution_count": 8,
   "id": "5453b68a",
   "metadata": {},
   "outputs": [],
   "source": [
    "def get_contents_comments(soup):\n",
    "    \n",
    "    # 게시물 내용\n",
    "    try:\n",
    "        contents = soup.select('.board-content.word-break')[0].text.strip()\n",
    "    except:\n",
    "        contents = None\n",
    "    comments_list = []\n",
    "\n",
    "    # 게시물 댓글\n",
    "    try:\n",
    "        comments = soup.select('.word-break.comment-content')\n",
    "    except:\n",
    "        comments = None\n",
    "    for comment in comments :\n",
    "        try:\n",
    "            comment_text = comment.text.strip()\n",
    "        except:\n",
    "            comment_text = None\n",
    "        comments_list.append(comment_text)\n",
    "    try:\n",
    "        comments_num_str = soup.select('.comment-number')[0].text\n",
    "    except:\n",
    "        comments_num_str = None\n",
    "    comments_num = int(''.join(filter(str.isdigit, comments_num_str)))\n",
    "    try:\n",
    "        date_text = soup.find('div', class_='board-date').text.strip()\n",
    "    except:\n",
    "        date = None\n",
    "    date = datetime.strptime(date_text, '%Y/%m/%d %H:%M')\n",
    "\n",
    "    return contents, comments_list, comments_num, date"
   ]
  },
  {
   "cell_type": "markdown",
   "id": "d846c9e1",
   "metadata": {},
   "source": [
    "### Contents Comments handler"
   ]
  },
  {
   "cell_type": "code",
   "execution_count": 9,
   "id": "43fbf8e3",
   "metadata": {},
   "outputs": [],
   "source": [
    "def contents_handler(driver, ids):\n",
    "    contents_data = {\n",
    "        \"id\" : [],\n",
    "        \"contents\": [],\n",
    "        \"comments\" : [],\n",
    "        \"comments_num\" : [],\n",
    "        \"date\" : []\n",
    "    }    \n",
    "    i = 0\n",
    "    for ID in ids:\n",
    "        try:\n",
    "            if (i % 100) == 0:\n",
    "                driver.quit()\n",
    "                driver = login()\n",
    "                time.sleep(1)\n",
    "            url = 'https://www.ssodam.com/content/' + str(ID)\n",
    "            driver.get(url)\n",
    "            time.sleep(1)\n",
    "            soup = BeautifulSoup(driver.page_source, 'html.parser')\n",
    "            contents, comments_list, comments_num, date = get_contents_comments(soup)\n",
    "            contents_data[\"id\"].append(ID)\n",
    "            contents_data[\"contents\"].append(contents)\n",
    "            contents_data[\"comments_num\"].append(comments_num)\n",
    "            contents_data[\"comments\"].append(comments_list)\n",
    "            contents_data[\"date\"].append(date)\n",
    "            i += 1\n",
    "        except:\n",
    "            continue\n",
    "    contents_df = pd.DataFrame(contents_data)     \n",
    "    return contents_df\n",
    "\n",
    "        "
   ]
  },
  {
   "cell_type": "markdown",
   "id": "b1ccd4cf",
   "metadata": {},
   "source": [
    "#### test for comments contents handler"
   ]
  },
  {
   "cell_type": "code",
   "execution_count": 10,
   "id": "c2ba354c",
   "metadata": {},
   "outputs": [],
   "source": [
    "# driver = login()\n",
    "# url = 'https://www.ssodam.com/content/1645555'\n",
    "# time.sleep(0.2)\n",
    "# driver.get(url)\n",
    "# soup = BeautifulSoup(driver.page_source, 'html.parser')\n",
    "# contents, comments_list, comments_num, date = get_contents_comments(soup)\n",
    "# contents_data = {\n",
    "#     \"id\" : [],\n",
    "#     \"contents\": [],\n",
    "#     \"comments\" : [],\n",
    "#     \"comments_num\" : [],\n",
    "#     \"date\" : []\n",
    "# }\n",
    "# contents_data[\"id\"].append(1645555)\n",
    "# contents_data[\"contents\"].append(contents)\n",
    "# contents_data[\"comments_num\"].append(comments_num)\n",
    "# contents_data[\"comments\"].append(comments_list)\n",
    "# contents_data[\"date\"].append(date)\n",
    "# contents_df = pd.DataFrame(contents_data)     \n"
   ]
  },
  {
   "cell_type": "markdown",
   "id": "8911f694",
   "metadata": {},
   "source": [
    "## Main"
   ]
  },
  {
   "cell_type": "markdown",
   "id": "1980268e",
   "metadata": {},
   "source": [
    "### login"
   ]
  },
  {
   "cell_type": "code",
   "execution_count": 11,
   "id": "c866d3e8",
   "metadata": {},
   "outputs": [],
   "source": [
    "# driver = login()"
   ]
  },
  {
   "cell_type": "markdown",
   "id": "2fdf4b4d",
   "metadata": {},
   "source": [
    "## crawl all"
   ]
  },
  {
   "cell_type": "markdown",
   "id": "595406aa",
   "metadata": {},
   "source": [
    "이건화: 1 ~ 100 <br/> \n",
    "박수빈: 101 ~ 200 <br/>\n",
    "김보미: 201 ~ 300 <br/>\n",
    "김승현: 301 ~ 400 <br/>\n",
    "인당 게시물 2000개"
   ]
  },
  {
   "cell_type": "code",
   "execution_count": 12,
   "id": "10bbb50e",
   "metadata": {},
   "outputs": [],
   "source": [
    "# board_nums = [3, 4, 5, 6, 7, 50, 60, 69, 10, 11, 66, 70, 12, 46, 15, 16]\n",
    "# start_pages = [1, 1, 1, 1, 1, 1, 1, 1, 1, 1, 1, 1, 1, 1, 1, 1]\n",
    "# end_pages = [70, 57, 2426, 114, 12, 4, 11, 1, 47, 98, 91, 17, 6, 3, 5, 11]\n",
    "# ad_cnts = [1, 1, 3, 2, 1, 1, 1, 1, 1, 4, 1, 1, 1, 1, 1, 1, 1]\n",
    "# names = [\n",
    "#     '자유게시판',\n",
    "#     '익게1',\n",
    "#     '익게2',\n",
    "#     '연애상담소',\n",
    "#     '졸업생',\n",
    "#     '주식투자',\n",
    "#     '헬스',\n",
    "#     '총학생회',\n",
    "#     '모집공고',\n",
    "#     '취업게시판',\n",
    "#     'CPA세무사',\n",
    "#     '로스쿨',\n",
    "#     '고시전문직',\n",
    "#     '일반대학원',\n",
    "#     '강의평가',\n",
    "#     '벼룩시장'\n",
    "# ]"
   ]
  },
  {
   "cell_type": "code",
   "execution_count": 13,
   "id": "dfdafdf2",
   "metadata": {},
   "outputs": [],
   "source": [
    "# for i in range(16):\n",
    "#     board_num = board_nums[i]\n",
    "#     end_page =  end_pages[i]\n",
    "#     name = names[i]\n",
    "#     start_page = start_pages[i]\n",
    "#     ad_cnt = ad_cnts[i]\n",
    "#     meta_data = metadata_handler(driver, board_num, start_page, end_page, ad_cnt)\n",
    "#     meta_df = pd.DataFrame(meta_data)\n",
    "#     meta_df.to_csv(f\"./data/{name}_metadata.csv\", encoding='utf-8-sig')\n"
   ]
  },
  {
   "cell_type": "markdown",
   "id": "6876a566",
   "metadata": {},
   "source": [
    "#### 익게 합치기"
   ]
  },
  {
   "cell_type": "code",
   "execution_count": 14,
   "id": "89265ba7",
   "metadata": {},
   "outputs": [],
   "source": [
    "# df1 = pd.read_csv(\"./data/익게2_1200_2426_metadata_300_600.csv\", index_col=0)\n",
    "# df2 = pd.read_csv(\"./data/익게2_801_1200_metadata_300_600.csv\", index_col=0)\n",
    "# df3 = pd.read_csv(\"./data/익게2_semi_metadata.csv\", index_col=0)\n",
    "\n",
    "# # 'Unnamed'으로 시작하는 열 제거\n",
    "# df3 = df3.drop(columns=df3.columns[df3.columns.str.startswith('Unnamed')])\n",
    "\n",
    "# dfs = [df1, df2, df3]\n",
    "# df = pd.concat(dfs, ignore_index=True)\n",
    "# df"
   ]
  },
  {
   "cell_type": "code",
   "execution_count": 15,
   "id": "a1359643",
   "metadata": {},
   "outputs": [],
   "source": [
    "# df_unique = df.drop_duplicates(subset=['id'], keep='first')\n",
    "# df_unique"
   ]
  },
  {
   "cell_type": "code",
   "execution_count": 16,
   "id": "cee56516",
   "metadata": {},
   "outputs": [],
   "source": [
    "# df_unique.to_csv(\"./data/익게2_metadata.csv\", index=False, encoding='utf-8-sig')"
   ]
  },
  {
   "cell_type": "markdown",
   "id": "67c18f58",
   "metadata": {},
   "source": [
    "meta data의 데이터를 통한 필터링으로 제일 맛있는 게시물 200개씩\n"
   ]
  },
  {
   "cell_type": "markdown",
   "id": "27991f3f",
   "metadata": {},
   "source": [
    "### Contents 추출 + Tokenize"
   ]
  },
  {
   "cell_type": "code",
   "execution_count": 17,
   "id": "e4aaf2e8",
   "metadata": {},
   "outputs": [],
   "source": [
    "names = [\n",
    "    '익게2',\n",
    "\n",
    "    # '자유게시판',\n",
    "    # '익게1',\n",
    "    # '연애상담소',\n",
    "    # '졸업생',\n",
    "    # '주식투자',\n",
    "    # '헬스',\n",
    "    # '총학생회',\n",
    "    # '모집공고',\n",
    "    # '취업게시판',\n",
    "    # 'CPA세무사',\n",
    "    # '로스쿨',\n",
    "    '고시전문직',\n",
    "    '일반대학원',\n",
    "    '강의평가',\n",
    "    '벼룩시장'\n",
    "]"
   ]
  },
  {
   "cell_type": "code",
   "execution_count": 18,
   "id": "0537809b",
   "metadata": {},
   "outputs": [],
   "source": [
    "import pandas as pd\n",
    "import numpy as np\n",
    "import seaborn as sns\n",
    "import matplotlib.pyplot as plt\n",
    "from collections import Counter\n",
    "from wordcloud import WordCloud\n",
    "import matplotlib.pyplot as plt\n",
    "from matplotlib import font_manager, rc\n",
    "\n",
    "from ast import literal_eval\n",
    "import numpy as np\n",
    "from PIL import Image\n",
    "%matplotlib inline \n",
    "from tqdm.notebook import tqdm\n",
    "import urllib.request\n",
    "from konlpy.tag import Okt\n",
    "from gensim.models.word2vec import Word2Vec\n",
    "import pandas as pd\n",
    "import matplotlib.pyplot as plt\n",
    "import pandas as pd\n",
    "from konlpy.tag import Okt"
   ]
  },
  {
   "cell_type": "code",
   "execution_count": 19,
   "id": "c6fb01dd",
   "metadata": {},
   "outputs": [],
   "source": [
    "stopwords = ['의','가','이','은','들','는','좀','잘','걍','과','도a','를','으로','을','안','한','로',',','아','다미','부터','이랑',\n",
    "             '자','에','와','하다','ㅋ','명','것','곳','거','때','그','데','못','중','대한','인데','진짜','너무','에서','근데']"
   ]
  },
  {
   "cell_type": "code",
   "execution_count": 20,
   "id": "58394621",
   "metadata": {},
   "outputs": [],
   "source": [
    "okt = Okt()\n",
    "\n",
    "def tokn(x):\n",
    "    try:\n",
    "        temp_y = okt.pos(x) # 토큰화\n",
    "        temp_y = [word for word in temp_y if not word in stopwords] # 불용어 제거\n",
    "        return temp_y\n",
    "    except:\n",
    "        print(x)"
   ]
  },
  {
   "cell_type": "code",
   "execution_count": 21,
   "id": "ff561eb3",
   "metadata": {},
   "outputs": [
    {
     "data": {
      "text/plain": [
       "27600    1739304\n",
       "15554    1718123\n",
       "43618    1695910\n",
       "1699     1684585\n",
       "39551    1703212\n",
       "          ...   \n",
       "13092    1722408\n",
       "13137    1722331\n",
       "13305    1722009\n",
       "13322    1721980\n",
       "13469    1721716\n",
       "Name: id, Length: 24024, dtype: int64"
      ]
     },
     "metadata": {},
     "output_type": "display_data"
    },
    {
     "name": "stdout",
     "output_type": "stream",
     "text": [
      "nan\n",
      "nan\n",
      "nan\n",
      "nan\n",
      "nan\n",
      "nan\n",
      "nan\n",
      "nan\n"
     ]
    },
    {
     "data": {
      "text/plain": [
       "56    1719053\n",
       "55    1720388\n",
       "8     1750336\n",
       "48    1723434\n",
       "65    1709728\n",
       "       ...   \n",
       "17    1744035\n",
       "25    1738244\n",
       "26    1737933\n",
       "39    1731498\n",
       "42    1728611\n",
       "Name: id, Length: 120, dtype: int64"
      ]
     },
     "metadata": {},
     "output_type": "display_data"
    },
    {
     "data": {
      "text/plain": [
       "19    1722693\n",
       "18    1724343\n",
       "53    1652961\n",
       "32    1695551\n",
       "31    1697859\n",
       "17    1728400\n",
       "57    1652038\n",
       "5     1747074\n",
       "12    1736088\n",
       "8     1743824\n",
       "4     1752695\n",
       "0     1756549\n",
       "3     1753103\n",
       "25    1711985\n",
       "20    1722578\n",
       "24    1715637\n",
       "34    1694182\n",
       "48    1664061\n",
       "52    1657153\n",
       "35    1691454\n",
       "43    1677956\n",
       "49    1663458\n",
       "14    1733600\n",
       "9     1742520\n",
       "21    1719542\n",
       "29    1704074\n",
       "50    1663050\n",
       "10    1741545\n",
       "39    1682423\n",
       "28    1704082\n",
       "45    1675715\n",
       "47    1672601\n",
       "11    1740248\n",
       "13    1733816\n",
       "15    1733379\n",
       "22    1718987\n",
       "55    1652567\n",
       "59    1642059\n",
       "37    1687815\n",
       "27    1707017\n",
       "7     1744118\n",
       "38    1684721\n",
       "42    1678930\n",
       "56    1652078\n",
       "51    1660579\n",
       "6     1745750\n",
       "16    1730053\n",
       "41    1680409\n",
       "58    1648856\n",
       "1     1754810\n",
       "2     1754262\n",
       "23    1718873\n",
       "26    1707619\n",
       "30    1699897\n",
       "33    1694971\n",
       "36    1690772\n",
       "40    1680452\n",
       "44    1677664\n",
       "46    1674156\n",
       "54    1652614\n",
       "Name: id, dtype: int64"
      ]
     },
     "metadata": {},
     "output_type": "display_data"
    },
    {
     "data": {
      "text/plain": [
       "74    1093065\n",
       "21    1569939\n",
       "35    1451955\n",
       "15    1593718\n",
       "83    1076480\n",
       "       ...   \n",
       "92     945408\n",
       "23    1561088\n",
       "87    1033712\n",
       "62    1122474\n",
       "76    1087057\n",
       "Name: id, Length: 100, dtype: int64"
      ]
     },
     "metadata": {},
     "output_type": "display_data"
    },
    {
     "name": "stdout",
     "output_type": "stream",
     "text": [
      "nan\n"
     ]
    },
    {
     "data": {
      "text/plain": [
       "28     1744753\n",
       "68     1729190\n",
       "170    1686626\n",
       "93     1717626\n",
       "105    1711822\n",
       "        ...   \n",
       "210    1676766\n",
       "213    1673892\n",
       "218    1671116\n",
       "117    1704280\n",
       "46     1737712\n",
       "Name: id, Length: 220, dtype: int64"
      ]
     },
     "metadata": {},
     "output_type": "display_data"
    }
   ],
   "source": [
    "for name in names:\n",
    "    meta_df = pd.read_csv(f\"./data/metadata/{name}_metadata.csv\")\n",
    "    # 추출할 게시물 선택\n",
    "    meta_df = meta_df.sort_values(by=['comment_num', 'likes'], ascending=[False, False])\n",
    "    if len(meta_df) > 40000:\n",
    "        num = int(len(meta_df) * 0.5)\n",
    "    elif len(meta_df) > 1000:\n",
    "        num = int(len(meta_df) * 0.8)\n",
    "    else:\n",
    "        num = len(meta_df)\n",
    "        \n",
    "    meta_df = meta_df.head(num)\n",
    "    ids = meta_df[\"id\"]\n",
    "    display(ids)\n",
    "    \n",
    "    # 게시물 추출\n",
    "    driver = login()\n",
    "    time.sleep(1)\n",
    "    contents_df= contents_handler(driver, ids)\n",
    "    contents_df.to_csv(f\"./data/contents/{name}_contents.csv\", encoding='utf-8-sig')\n",
    "    driver.quit()\n",
    "\n",
    "    # metadata와 contents를 합치기\n",
    "    merged_df = pd.merge(meta_df, contents_df, on=\"id\")\n",
    "\n",
    "    # tokenize\n",
    "    tokenized_df = merged_df.copy()\n",
    "    # 한글만 남기기\n",
    "    tokenized_df[\"contents\"] = tokenized_df[\"contents\"].str.replace(\"[^ㄱ-ㅎㅏ-ㅣ가-힣, \\d, % ]\",\"\")\n",
    "        # 댓글은 리스트로 뽑혔다 => 문자열로 연결하자\n",
    "    tokenized_df[\"comments\"] = tokenized_df[\"comments\"].apply(lambda x: ' '.join(x))\n",
    "    tokenized_df[\"comments\"] = tokenized_df[\"comments\"].str.replace(\"[^ㄱ-ㅎㅏ-ㅣ가-힣, \\d, % ]\",\"\")\n",
    "    tokenized_df[\"title\"] = tokenized_df[\"title\"].str.replace(\"[^ㄱ-ㅎㅏ-ㅣ가-힣, \\d, % ]\",\"\")\n",
    "    # 토큰화\n",
    "    tokenized_df['contents_tokenized'] = tokenized_df['contents'].apply(lambda x : tokn(x))\n",
    "    tokenized_df['comments_tokenized'] = tokenized_df['comments'].apply(lambda x : tokn(x))\n",
    "    tokenized_df['title_tokenized'] = tokenized_df['title'].apply(lambda x : tokn(x))\n",
    "    tokenized_df.to_csv(f\"./data/tokenized/{name}_tokenized.csv\", encoding='utf-8-sig')\n",
    "    "
   ]
  },
  {
   "cell_type": "code",
   "execution_count": null,
   "id": "59e56f88",
   "metadata": {},
   "outputs": [],
   "source": []
  },
  {
   "cell_type": "code",
   "execution_count": null,
   "id": "88fb2d27",
   "metadata": {},
   "outputs": [],
   "source": []
  },
  {
   "cell_type": "code",
   "execution_count": null,
   "id": "1baacdd0",
   "metadata": {},
   "outputs": [],
   "source": []
  }
 ],
 "metadata": {
  "kernelspec": {
   "display_name": "Python 3 (ipykernel)",
   "language": "python",
   "name": "python3"
  },
  "language_info": {
   "codemirror_mode": {
    "name": "ipython",
    "version": 3
   },
   "file_extension": ".py",
   "mimetype": "text/x-python",
   "name": "python",
   "nbconvert_exporter": "python",
   "pygments_lexer": "ipython3",
   "version": "3.11.5"
  },
  "toc": {
   "base_numbering": 1,
   "nav_menu": {},
   "number_sections": true,
   "sideBar": true,
   "skip_h1_title": true,
   "title_cell": "Table of Contents",
   "title_sidebar": "Contents",
   "toc_cell": true,
   "toc_position": {
    "height": "calc(100% - 180px)",
    "left": "10px",
    "top": "150px",
    "width": "341.458px"
   },
   "toc_section_display": true,
   "toc_window_display": true
  }
 },
 "nbformat": 4,
 "nbformat_minor": 5
}
